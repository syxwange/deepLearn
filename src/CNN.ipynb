{
 "metadata": {
  "language_info": {
   "codemirror_mode": {
    "name": "ipython",
    "version": 3
   },
   "file_extension": ".py",
   "mimetype": "text/x-python",
   "name": "python",
   "nbconvert_exporter": "python",
   "pygments_lexer": "ipython3",
   "version": "3.8.5-final"
  },
  "orig_nbformat": 2,
  "kernelspec": {
   "name": "python3",
   "display_name": "Python 3",
   "language": "python"
  }
 },
 "nbformat": 4,
 "nbformat_minor": 2,
 "cells": [
  {
   "cell_type": "code",
   "execution_count": 1,
   "source": [
    "import torch\r\n",
    "import torch.nn as nn\r\n",
    "import numpy\r\n",
    "from torchvision import datasets , transforms\r\n",
    "import matplotlib.pyplot as plt\r\n",
    "import time #dfdsfdsf"
   ],
   "outputs": [],
   "metadata": {}
  },
  {
   "cell_type": "markdown",
   "source": [
    "## 加载数据，并制作成数据集"
   ],
   "metadata": {}
  },
  {
   "cell_type": "code",
   "execution_count": 2,
   "source": [
    "dataTrans = transforms.Compose([transforms.Resize((128,128)),transforms.ToTensor()])\r\n",
    "foodSets ={x:datasets.ImageFolder(\"../data/food/\"+x,transform = dataTrans) for x in [\"training\",\"validation\"]}  \r\n",
    "dataloads ={x:torch.utils.data.DataLoader(foodSets[x],batch_size=16,shuffle=True,num_workers=10) for x in [\"training\",\"validation\"]}"
   ],
   "outputs": [],
   "metadata": {}
  },
  {
   "cell_type": "markdown",
   "source": [
    "## 建立CNN模型"
   ],
   "metadata": {}
  },
  {
   "cell_type": "code",
   "execution_count": 3,
   "source": [
    "class foodCNN(torch.nn.Module):\r\n",
    "    def __init__(self):\r\n",
    "        super(foodCNN, self).__init__()\r\n",
    "        self.cnn = nn.Sequential(\r\n",
    "            nn.Conv2d(3, 64,3,1,1),  # [64, 128, 128]\r\n",
    "            nn.BatchNorm2d(64),\r\n",
    "            nn.ReLU(),\r\n",
    "            nn.MaxPool2d(2, 2, 0),      # [64, 64, 64]\r\n",
    "        \r\n",
    "\r\n",
    "            nn.Conv2d(64,128,3,1,1), \r\n",
    "            nn.BatchNorm2d(128),\r\n",
    "            nn.ReLU(),\r\n",
    "            nn.MaxPool2d(2,2,0),\r\n",
    "\r\n",
    "            nn.Conv2d(128,256,3,1,1),\r\n",
    "            nn.BatchNorm2d(256),\r\n",
    "            nn.ReLU(),\r\n",
    "            nn.MaxPool2d(2,2,0),\r\n",
    "\r\n",
    "            nn.Conv2d(256,512,3,1,1),\r\n",
    "            nn.BatchNorm2d(512),\r\n",
    "            nn.ReLU(),\r\n",
    "            nn.MaxPool2d(2,2,0),\r\n",
    "\r\n",
    "            nn.Conv2d(512,512,3,1,1),\r\n",
    "            nn.BatchNorm2d(512),\r\n",
    "            nn.ReLU(),\r\n",
    "            nn.MaxPool2d(2,2,0),\r\n",
    "        )\r\n",
    "        self.fc = nn.Sequential(\r\n",
    "            nn.Linear(512*4*4,1024),\r\n",
    "            nn.ReLU(),\r\n",
    "            nn.Linear(1024,256),\r\n",
    "            nn.ReLU(),\r\n",
    "            nn.Linear(256,11)\r\n",
    "        )\r\n",
    "\r\n",
    "    def forward(self, x ):\r\n",
    "        y = self.cnn(x)\r\n",
    "        #y = y.view(y.size()[0], -1)        \r\n",
    "        y = y.reshape(y.size(0),-1)\r\n",
    "        return self.fc(y)"
   ],
   "outputs": [],
   "metadata": {}
  },
  {
   "cell_type": "markdown",
   "source": [
    "## Training"
   ],
   "metadata": {}
  },
  {
   "cell_type": "code",
   "execution_count": 5,
   "source": [
    "model = foodCNN().to(\"cuda\")\r\n",
    "lossFunc = nn.CrossEntropyLoss()\r\n",
    "opt = torch.optim.Adam(model.parameters(),lr=0.001)\r\n",
    "num_epoch = 10\r\n",
    "since = time.time()\r\n",
    "n_t= len(dataloads[\"training\"].dataset)\r\n",
    "n_v = len(dataloads[\"validation\"].dataset)\r\n",
    "for epoch in range(num_epoch):    \r\n",
    "    best_acc = 0    \r\n",
    "    t_loss = 0.0\r\n",
    "    t_cor = 0\r\n",
    "    v_loss=0.0  \r\n",
    "    v_cor=0\r\n",
    "\r\n",
    "    model.train()  # 训练 \r\n",
    "    for x,y in dataloads[\"training\"]:\r\n",
    "        x = x.to(\"cuda\");y = y.to(\"cuda\")            \r\n",
    "\r\n",
    "        out = model(x);loss = lossFunc(out,y)\r\n",
    "        _, preds = torch.max(out, 1)        \r\n",
    "        opt.zero_grad();loss.backward();opt.step()\r\n",
    "\r\n",
    "        t_loss += loss.item()*x.size(0)\r\n",
    "        t_cor += torch.sum(preds==y.data) \r\n",
    "    now = time.time() - since   \r\n",
    "    print(\"train:loss{:.4f}; correct{:.4f};time:{:.0f}m {:.0f}s\".format(t_loss/n_t,t_cor.double()/n_t,now // 60, now % 60))\r\n",
    "    model.eval()   # 验证\r\n",
    "    with torch.no_grad():\r\n",
    "        for x,y in dataloads[\"validation\"]:\r\n",
    "            x = x.to(\"cuda\");y = y.to(\"cuda\") \r\n",
    "            out = model(x);loss = lossFunc(out,y)\r\n",
    "            _, preds = torch.max(out, 1)\r\n",
    "            v_loss += loss.item()*x.size(0)\r\n",
    "            v_cor += torch.sum(preds==y.data) \r\n",
    "    now = time.time() - since\r\n",
    "    print(\"validation:loss{:.4f}; correct{:.4f};time{:.0f}m {:.0f}s\".format(v_loss/n_v,v_cor/n_v,now // 60, now % 60))\r\n",
    "\r\n"
   ],
   "outputs": [
    {
     "output_type": "stream",
     "name": "stdout",
     "text": [
      "train:loss2.1674; correct0.2325;time:1m 2s\n",
      "validation:loss2.0312; correct0.2805;time1m 11s\n",
      "train:loss1.9694; correct0.3032;time:2m 13s\n",
      "validation:loss1.9295; correct0.3155;time2m 22s\n",
      "train:loss1.8333; correct0.3570;time:3m 25s\n",
      "validation:loss1.9289; correct0.3259;time3m 33s\n",
      "train:loss1.7002; correct0.4048;time:4m 39s\n",
      "validation:loss1.6782; correct0.4163;time4m 49s\n",
      "train:loss1.5701; correct0.4513;time:5m 55s\n",
      "validation:loss2.2316; correct0.3096;time6m 3s\n",
      "train:loss1.4758; correct0.4827;time:7m 6s\n",
      "validation:loss1.5381; correct0.4831;time7m 14s\n",
      "train:loss1.3550; correct0.5274;time:8m 16s\n",
      "validation:loss1.5898; correct0.4761;time8m 25s\n",
      "train:loss1.2630; correct0.5631;time:9m 26s\n",
      "validation:loss1.3635; correct0.5362;time9m 34s\n",
      "train:loss1.1665; correct0.5983;time:10m 35s\n",
      "validation:loss1.3155; correct0.5566;time10m 44s\n",
      "train:loss1.0677; correct0.6332;time:11m 46s\n",
      "validation:loss1.3315; correct0.5577;time11m 54s\n"
     ]
    }
   ],
   "metadata": {}
  },
  {
   "cell_type": "code",
   "execution_count": 7,
   "source": [
    "\n",
    "state = {'state_dict': model.state_dict(), 'optimizer' : opt.state_dict()}\n",
    "torch.save(state, \"checkpoint\")"
   ],
   "outputs": [],
   "metadata": {}
  },
  {
   "cell_type": "markdown",
   "source": [
    "## 测试数据集，并显示图片"
   ],
   "metadata": {}
  },
  {
   "cell_type": "code",
   "execution_count": null,
   "source": [
    "myIter =iter(dataloads[\"training\"]) \r\n",
    "images ,classes = myIter.next()\r\n",
    "im = images[0].numpy()\r\n",
    "im = im.transpose(1,2,0)\r\n",
    "plt.imshow(im)\r\n",
    "plt.show(),classes[0],foodSets[\"training\"].class_to_idx"
   ],
   "outputs": [],
   "metadata": {}
  },
  {
   "cell_type": "code",
   "execution_count": null,
   "source": [],
   "outputs": [],
   "metadata": {}
  }
 ]
}