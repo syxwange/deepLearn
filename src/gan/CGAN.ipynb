{
 "cells": [
  {
   "cell_type": "markdown",
   "source": [
    "## Controllable Generation\r\n",
    "您将制作一个条件 GAN，以生成数字的手写图像，条件是要生成的数字（类向量）。这将让您选择要生成的数字。"
   ],
   "metadata": {}
  },
  {
   "cell_type": "code",
   "execution_count": null,
   "source": [],
   "outputs": [],
   "metadata": {}
  }
 ],
 "metadata": {
  "orig_nbformat": 4,
  "language_info": {
   "name": "python",
   "version": "3.9.6"
  },
  "kernelspec": {
   "name": "python3",
   "display_name": "Python 3.9.6 64-bit ('torch': conda)"
  },
  "interpreter": {
   "hash": "81a32e34d9b6c3d3c08eec8886cc1ef58e5830ea13071be471581d66bf884ac5"
  }
 },
 "nbformat": 4,
 "nbformat_minor": 2
}